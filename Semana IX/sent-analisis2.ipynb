{
 "cells": [
  {
   "cell_type": "code",
   "execution_count": 17,
   "metadata": {},
   "outputs": [],
   "source": [
    "import re\n",
    "import nltk\n",
    "import pandas as pd\n",
    "from nltk.corpus import stopwords\n",
    "from nltk import word_tokenize, FreqDist"
   ]
  },
  {
   "cell_type": "code",
   "execution_count": 3,
   "metadata": {},
   "outputs": [],
   "source": [
    "dataset = pd.read_csv(\"dataset.csv\")"
   ]
  },
  {
   "cell_type": "code",
   "execution_count": 4,
   "metadata": {},
   "outputs": [
    {
     "data": {
      "text/html": [
       "<div>\n",
       "<style scoped>\n",
       "    .dataframe tbody tr th:only-of-type {\n",
       "        vertical-align: middle;\n",
       "    }\n",
       "\n",
       "    .dataframe tbody tr th {\n",
       "        vertical-align: top;\n",
       "    }\n",
       "\n",
       "    .dataframe thead th {\n",
       "        text-align: right;\n",
       "    }\n",
       "</style>\n",
       "<table border=\"1\" class=\"dataframe\">\n",
       "  <thead>\n",
       "    <tr style=\"text-align: right;\">\n",
       "      <th></th>\n",
       "      <th>product_review</th>\n",
       "      <th>product_category</th>\n",
       "    </tr>\n",
       "  </thead>\n",
       "  <tbody>\n",
       "    <tr>\n",
       "      <th>0</th>\n",
       "      <td>I love, love, love this jumpsuit. it's fun, fl...</td>\n",
       "      <td>Bottoms</td>\n",
       "    </tr>\n",
       "    <tr>\n",
       "      <th>1</th>\n",
       "      <td>Beautifully made pants and on trend with the f...</td>\n",
       "      <td>Bottoms</td>\n",
       "    </tr>\n",
       "    <tr>\n",
       "      <th>2</th>\n",
       "      <td>I never would have given these pants a second ...</td>\n",
       "      <td>Bottoms</td>\n",
       "    </tr>\n",
       "    <tr>\n",
       "      <th>3</th>\n",
       "      <td>These pants are even better in person. the onl...</td>\n",
       "      <td>Bottoms</td>\n",
       "    </tr>\n",
       "    <tr>\n",
       "      <th>4</th>\n",
       "      <td>The silhouette and length of this skirt and le...</td>\n",
       "      <td>Bottoms</td>\n",
       "    </tr>\n",
       "  </tbody>\n",
       "</table>\n",
       "</div>"
      ],
      "text/plain": [
       "                                      product_review product_category\n",
       "0  I love, love, love this jumpsuit. it's fun, fl...          Bottoms\n",
       "1  Beautifully made pants and on trend with the f...          Bottoms\n",
       "2  I never would have given these pants a second ...          Bottoms\n",
       "3  These pants are even better in person. the onl...          Bottoms\n",
       "4  The silhouette and length of this skirt and le...          Bottoms"
      ]
     },
     "execution_count": 4,
     "metadata": {},
     "output_type": "execute_result"
    }
   ],
   "source": [
    "dataset.head()"
   ]
  },
  {
   "cell_type": "code",
   "execution_count": 5,
   "metadata": {},
   "outputs": [
    {
     "data": {
      "text/plain": [
       "(3376, 2)"
      ]
     },
     "execution_count": 5,
     "metadata": {},
     "output_type": "execute_result"
    }
   ],
   "source": [
    "dataset.shape"
   ]
  },
  {
   "cell_type": "code",
   "execution_count": 9,
   "metadata": {},
   "outputs": [
    {
     "data": {
      "text/plain": [
       "\"I love, love, love this jumpsuit. it's fun, flirty, and fabulous! every time i wear it, i get nothing but great compliments!\""
      ]
     },
     "execution_count": 9,
     "metadata": {},
     "output_type": "execute_result"
    }
   ],
   "source": [
    "dataset.product_review[0]"
   ]
  },
  {
   "cell_type": "code",
   "execution_count": 11,
   "metadata": {},
   "outputs": [
    {
     "data": {
      "text/plain": [
       "product_category\n",
       "Bottoms     685\n",
       "Dresses     681\n",
       "Tops        680\n",
       "Jackets     680\n",
       "Intimate    650\n",
       "Name: count, dtype: int64"
      ]
     },
     "execution_count": 11,
     "metadata": {},
     "output_type": "execute_result"
    }
   ],
   "source": [
    "dataset[\"product_category\"].value_counts()"
   ]
  },
  {
   "cell_type": "code",
   "execution_count": 15,
   "metadata": {},
   "outputs": [],
   "source": [
    "dataset[\"product_review\"] = dataset[\"product_review\"].str.lower()"
   ]
  },
  {
   "cell_type": "code",
   "execution_count": 16,
   "metadata": {},
   "outputs": [
    {
     "data": {
      "text/html": [
       "<div>\n",
       "<style scoped>\n",
       "    .dataframe tbody tr th:only-of-type {\n",
       "        vertical-align: middle;\n",
       "    }\n",
       "\n",
       "    .dataframe tbody tr th {\n",
       "        vertical-align: top;\n",
       "    }\n",
       "\n",
       "    .dataframe thead th {\n",
       "        text-align: right;\n",
       "    }\n",
       "</style>\n",
       "<table border=\"1\" class=\"dataframe\">\n",
       "  <thead>\n",
       "    <tr style=\"text-align: right;\">\n",
       "      <th></th>\n",
       "      <th>product_review</th>\n",
       "      <th>product_category</th>\n",
       "    </tr>\n",
       "  </thead>\n",
       "  <tbody>\n",
       "    <tr>\n",
       "      <th>0</th>\n",
       "      <td>i love, love, love this jumpsuit. it's fun, fl...</td>\n",
       "      <td>Bottoms</td>\n",
       "    </tr>\n",
       "    <tr>\n",
       "      <th>1</th>\n",
       "      <td>beautifully made pants and on trend with the f...</td>\n",
       "      <td>Bottoms</td>\n",
       "    </tr>\n",
       "    <tr>\n",
       "      <th>2</th>\n",
       "      <td>i never would have given these pants a second ...</td>\n",
       "      <td>Bottoms</td>\n",
       "    </tr>\n",
       "    <tr>\n",
       "      <th>3</th>\n",
       "      <td>these pants are even better in person. the onl...</td>\n",
       "      <td>Bottoms</td>\n",
       "    </tr>\n",
       "    <tr>\n",
       "      <th>4</th>\n",
       "      <td>the silhouette and length of this skirt and le...</td>\n",
       "      <td>Bottoms</td>\n",
       "    </tr>\n",
       "  </tbody>\n",
       "</table>\n",
       "</div>"
      ],
      "text/plain": [
       "                                      product_review product_category\n",
       "0  i love, love, love this jumpsuit. it's fun, fl...          Bottoms\n",
       "1  beautifully made pants and on trend with the f...          Bottoms\n",
       "2  i never would have given these pants a second ...          Bottoms\n",
       "3  these pants are even better in person. the onl...          Bottoms\n",
       "4  the silhouette and length of this skirt and le...          Bottoms"
      ]
     },
     "execution_count": 16,
     "metadata": {},
     "output_type": "execute_result"
    }
   ],
   "source": [
    "dataset.head()"
   ]
  },
  {
   "cell_type": "code",
   "execution_count": 25,
   "metadata": {},
   "outputs": [],
   "source": [
    "def remove_punct(s):\n",
    "    s = re.sub(r\"\\W\", \" \", s)\n",
    "    return re.sub(r\"\\s+\", \" \", s)    "
   ]
  },
  {
   "cell_type": "code",
   "execution_count": 26,
   "metadata": {},
   "outputs": [],
   "source": [
    "dataset[\"product_review\"] = dataset[\"product_review\"].apply(remove_punct)"
   ]
  },
  {
   "cell_type": "code",
   "execution_count": 27,
   "metadata": {},
   "outputs": [
    {
     "data": {
      "text/html": [
       "<div>\n",
       "<style scoped>\n",
       "    .dataframe tbody tr th:only-of-type {\n",
       "        vertical-align: middle;\n",
       "    }\n",
       "\n",
       "    .dataframe tbody tr th {\n",
       "        vertical-align: top;\n",
       "    }\n",
       "\n",
       "    .dataframe thead th {\n",
       "        text-align: right;\n",
       "    }\n",
       "</style>\n",
       "<table border=\"1\" class=\"dataframe\">\n",
       "  <thead>\n",
       "    <tr style=\"text-align: right;\">\n",
       "      <th></th>\n",
       "      <th>product_review</th>\n",
       "      <th>product_category</th>\n",
       "    </tr>\n",
       "  </thead>\n",
       "  <tbody>\n",
       "    <tr>\n",
       "      <th>0</th>\n",
       "      <td>i love love love this jumpsuit it s fun flirty...</td>\n",
       "      <td>Bottoms</td>\n",
       "    </tr>\n",
       "    <tr>\n",
       "      <th>1</th>\n",
       "      <td>beautifully made pants and on trend with the f...</td>\n",
       "      <td>Bottoms</td>\n",
       "    </tr>\n",
       "    <tr>\n",
       "      <th>2</th>\n",
       "      <td>i neve would have given these pants a second l...</td>\n",
       "      <td>Bottoms</td>\n",
       "    </tr>\n",
       "    <tr>\n",
       "      <th>3</th>\n",
       "      <td>these pants are even bette in person the only ...</td>\n",
       "      <td>Bottoms</td>\n",
       "    </tr>\n",
       "    <tr>\n",
       "      <th>4</th>\n",
       "      <td>the silhouette and length of this skirt and le...</td>\n",
       "      <td>Bottoms</td>\n",
       "    </tr>\n",
       "  </tbody>\n",
       "</table>\n",
       "</div>"
      ],
      "text/plain": [
       "                                      product_review product_category\n",
       "0  i love love love this jumpsuit it s fun flirty...          Bottoms\n",
       "1  beautifully made pants and on trend with the f...          Bottoms\n",
       "2  i neve would have given these pants a second l...          Bottoms\n",
       "3  these pants are even bette in person the only ...          Bottoms\n",
       "4  the silhouette and length of this skirt and le...          Bottoms"
      ]
     },
     "execution_count": 27,
     "metadata": {},
     "output_type": "execute_result"
    }
   ],
   "source": [
    "dataset.head()"
   ]
  },
  {
   "cell_type": "code",
   "execution_count": 29,
   "metadata": {},
   "outputs": [],
   "source": [
    "dataset[\"product_review_tokens\"] = dataset[\"product_review\"].apply(word_tokenize)"
   ]
  },
  {
   "cell_type": "code",
   "execution_count": 30,
   "metadata": {},
   "outputs": [
    {
     "data": {
      "text/html": [
       "<div>\n",
       "<style scoped>\n",
       "    .dataframe tbody tr th:only-of-type {\n",
       "        vertical-align: middle;\n",
       "    }\n",
       "\n",
       "    .dataframe tbody tr th {\n",
       "        vertical-align: top;\n",
       "    }\n",
       "\n",
       "    .dataframe thead th {\n",
       "        text-align: right;\n",
       "    }\n",
       "</style>\n",
       "<table border=\"1\" class=\"dataframe\">\n",
       "  <thead>\n",
       "    <tr style=\"text-align: right;\">\n",
       "      <th></th>\n",
       "      <th>product_review</th>\n",
       "      <th>product_category</th>\n",
       "      <th>product_review_tokens</th>\n",
       "    </tr>\n",
       "  </thead>\n",
       "  <tbody>\n",
       "    <tr>\n",
       "      <th>0</th>\n",
       "      <td>i love love love this jumpsuit it s fun flirty...</td>\n",
       "      <td>Bottoms</td>\n",
       "      <td>[i, love, love, love, this, jumpsuit, it, s, f...</td>\n",
       "    </tr>\n",
       "    <tr>\n",
       "      <th>1</th>\n",
       "      <td>beautifully made pants and on trend with the f...</td>\n",
       "      <td>Bottoms</td>\n",
       "      <td>[beautifully, made, pants, and, on, trend, wit...</td>\n",
       "    </tr>\n",
       "    <tr>\n",
       "      <th>2</th>\n",
       "      <td>i neve would have given these pants a second l...</td>\n",
       "      <td>Bottoms</td>\n",
       "      <td>[i, neve, would, have, given, these, pants, a,...</td>\n",
       "    </tr>\n",
       "    <tr>\n",
       "      <th>3</th>\n",
       "      <td>these pants are even bette in person the only ...</td>\n",
       "      <td>Bottoms</td>\n",
       "      <td>[these, pants, are, even, bette, in, person, t...</td>\n",
       "    </tr>\n",
       "    <tr>\n",
       "      <th>4</th>\n",
       "      <td>the silhouette and length of this skirt and le...</td>\n",
       "      <td>Bottoms</td>\n",
       "      <td>[the, silhouette, and, length, of, this, skirt...</td>\n",
       "    </tr>\n",
       "  </tbody>\n",
       "</table>\n",
       "</div>"
      ],
      "text/plain": [
       "                                      product_review product_category  \\\n",
       "0  i love love love this jumpsuit it s fun flirty...          Bottoms   \n",
       "1  beautifully made pants and on trend with the f...          Bottoms   \n",
       "2  i neve would have given these pants a second l...          Bottoms   \n",
       "3  these pants are even bette in person the only ...          Bottoms   \n",
       "4  the silhouette and length of this skirt and le...          Bottoms   \n",
       "\n",
       "                               product_review_tokens  \n",
       "0  [i, love, love, love, this, jumpsuit, it, s, f...  \n",
       "1  [beautifully, made, pants, and, on, trend, wit...  \n",
       "2  [i, neve, would, have, given, these, pants, a,...  \n",
       "3  [these, pants, are, even, bette, in, person, t...  \n",
       "4  [the, silhouette, and, length, of, this, skirt...  "
      ]
     },
     "execution_count": 30,
     "metadata": {},
     "output_type": "execute_result"
    }
   ],
   "source": [
    "dataset.head()"
   ]
  },
  {
   "cell_type": "code",
   "execution_count": 31,
   "metadata": {},
   "outputs": [],
   "source": [
    "s_w = stopwords.words(\"english\")\n",
    "\n",
    "def remove_sw(tokens:list) -> list:\n",
    "    return [w for w in tokens if w not in s_w]"
   ]
  },
  {
   "cell_type": "code",
   "execution_count": 32,
   "metadata": {},
   "outputs": [],
   "source": [
    "dataset[\"product_review_tokens_cleaned\"] = dataset[\"product_review_tokens\"].apply(remove_sw)"
   ]
  },
  {
   "cell_type": "code",
   "execution_count": 33,
   "metadata": {},
   "outputs": [
    {
     "data": {
      "text/html": [
       "<div>\n",
       "<style scoped>\n",
       "    .dataframe tbody tr th:only-of-type {\n",
       "        vertical-align: middle;\n",
       "    }\n",
       "\n",
       "    .dataframe tbody tr th {\n",
       "        vertical-align: top;\n",
       "    }\n",
       "\n",
       "    .dataframe thead th {\n",
       "        text-align: right;\n",
       "    }\n",
       "</style>\n",
       "<table border=\"1\" class=\"dataframe\">\n",
       "  <thead>\n",
       "    <tr style=\"text-align: right;\">\n",
       "      <th></th>\n",
       "      <th>product_review</th>\n",
       "      <th>product_category</th>\n",
       "      <th>product_review_tokens</th>\n",
       "      <th>product_review_tokens_cleaned</th>\n",
       "    </tr>\n",
       "  </thead>\n",
       "  <tbody>\n",
       "    <tr>\n",
       "      <th>0</th>\n",
       "      <td>i love love love this jumpsuit it s fun flirty...</td>\n",
       "      <td>Bottoms</td>\n",
       "      <td>[i, love, love, love, this, jumpsuit, it, s, f...</td>\n",
       "      <td>[love, love, love, jumpsuit, fun, flirty, fabu...</td>\n",
       "    </tr>\n",
       "    <tr>\n",
       "      <th>1</th>\n",
       "      <td>beautifully made pants and on trend with the f...</td>\n",
       "      <td>Bottoms</td>\n",
       "      <td>[beautifully, made, pants, and, on, trend, wit...</td>\n",
       "      <td>[beautifully, made, pants, trend, flared, crop...</td>\n",
       "    </tr>\n",
       "    <tr>\n",
       "      <th>2</th>\n",
       "      <td>i neve would have given these pants a second l...</td>\n",
       "      <td>Bottoms</td>\n",
       "      <td>[i, neve, would, have, given, these, pants, a,...</td>\n",
       "      <td>[neve, would, given, pants, second, look, onli...</td>\n",
       "    </tr>\n",
       "    <tr>\n",
       "      <th>3</th>\n",
       "      <td>these pants are even bette in person the only ...</td>\n",
       "      <td>Bottoms</td>\n",
       "      <td>[these, pants, are, even, bette, in, person, t...</td>\n",
       "      <td>[pants, even, bette, person, downside, need, d...</td>\n",
       "    </tr>\n",
       "    <tr>\n",
       "      <th>4</th>\n",
       "      <td>the silhouette and length of this skirt and le...</td>\n",
       "      <td>Bottoms</td>\n",
       "      <td>[the, silhouette, and, length, of, this, skirt...</td>\n",
       "      <td>[silhouette, length, skirt, length, flattering...</td>\n",
       "    </tr>\n",
       "  </tbody>\n",
       "</table>\n",
       "</div>"
      ],
      "text/plain": [
       "                                      product_review product_category  \\\n",
       "0  i love love love this jumpsuit it s fun flirty...          Bottoms   \n",
       "1  beautifully made pants and on trend with the f...          Bottoms   \n",
       "2  i neve would have given these pants a second l...          Bottoms   \n",
       "3  these pants are even bette in person the only ...          Bottoms   \n",
       "4  the silhouette and length of this skirt and le...          Bottoms   \n",
       "\n",
       "                               product_review_tokens  \\\n",
       "0  [i, love, love, love, this, jumpsuit, it, s, f...   \n",
       "1  [beautifully, made, pants, and, on, trend, wit...   \n",
       "2  [i, neve, would, have, given, these, pants, a,...   \n",
       "3  [these, pants, are, even, bette, in, person, t...   \n",
       "4  [the, silhouette, and, length, of, this, skirt...   \n",
       "\n",
       "                       product_review_tokens_cleaned  \n",
       "0  [love, love, love, jumpsuit, fun, flirty, fabu...  \n",
       "1  [beautifully, made, pants, trend, flared, crop...  \n",
       "2  [neve, would, given, pants, second, look, onli...  \n",
       "3  [pants, even, bette, person, downside, need, d...  \n",
       "4  [silhouette, length, skirt, length, flattering...  "
      ]
     },
     "execution_count": 33,
     "metadata": {},
     "output_type": "execute_result"
    }
   ],
   "source": [
    "dataset.head()"
   ]
  },
  {
   "cell_type": "code",
   "execution_count": 34,
   "metadata": {},
   "outputs": [],
   "source": [
    "dataset[\"product_review_cleaned\"] = dataset[\"product_review_tokens_cleaned\"].apply(lambda x: \" \".join(x))"
   ]
  },
  {
   "cell_type": "code",
   "execution_count": 35,
   "metadata": {},
   "outputs": [
    {
     "data": {
      "text/html": [
       "<div>\n",
       "<style scoped>\n",
       "    .dataframe tbody tr th:only-of-type {\n",
       "        vertical-align: middle;\n",
       "    }\n",
       "\n",
       "    .dataframe tbody tr th {\n",
       "        vertical-align: top;\n",
       "    }\n",
       "\n",
       "    .dataframe thead th {\n",
       "        text-align: right;\n",
       "    }\n",
       "</style>\n",
       "<table border=\"1\" class=\"dataframe\">\n",
       "  <thead>\n",
       "    <tr style=\"text-align: right;\">\n",
       "      <th></th>\n",
       "      <th>product_review</th>\n",
       "      <th>product_category</th>\n",
       "      <th>product_review_tokens</th>\n",
       "      <th>product_review_tokens_cleaned</th>\n",
       "      <th>product_review_cleaned</th>\n",
       "    </tr>\n",
       "  </thead>\n",
       "  <tbody>\n",
       "    <tr>\n",
       "      <th>0</th>\n",
       "      <td>i love love love this jumpsuit it s fun flirty...</td>\n",
       "      <td>Bottoms</td>\n",
       "      <td>[i, love, love, love, this, jumpsuit, it, s, f...</td>\n",
       "      <td>[love, love, love, jumpsuit, fun, flirty, fabu...</td>\n",
       "      <td>love love love jumpsuit fun flirty fabulous ev...</td>\n",
       "    </tr>\n",
       "    <tr>\n",
       "      <th>1</th>\n",
       "      <td>beautifully made pants and on trend with the f...</td>\n",
       "      <td>Bottoms</td>\n",
       "      <td>[beautifully, made, pants, and, on, trend, wit...</td>\n",
       "      <td>[beautifully, made, pants, trend, flared, crop...</td>\n",
       "      <td>beautifully made pants trend flared crop much ...</td>\n",
       "    </tr>\n",
       "    <tr>\n",
       "      <th>2</th>\n",
       "      <td>i neve would have given these pants a second l...</td>\n",
       "      <td>Bottoms</td>\n",
       "      <td>[i, neve, would, have, given, these, pants, a,...</td>\n",
       "      <td>[neve, would, given, pants, second, look, onli...</td>\n",
       "      <td>neve would given pants second look online pers...</td>\n",
       "    </tr>\n",
       "    <tr>\n",
       "      <th>3</th>\n",
       "      <td>these pants are even bette in person the only ...</td>\n",
       "      <td>Bottoms</td>\n",
       "      <td>[these, pants, are, even, bette, in, person, t...</td>\n",
       "      <td>[pants, even, bette, person, downside, need, d...</td>\n",
       "      <td>pants even bette person downside need dry cleaned</td>\n",
       "    </tr>\n",
       "    <tr>\n",
       "      <th>4</th>\n",
       "      <td>the silhouette and length of this skirt and le...</td>\n",
       "      <td>Bottoms</td>\n",
       "      <td>[the, silhouette, and, length, of, this, skirt...</td>\n",
       "      <td>[silhouette, length, skirt, length, flattering...</td>\n",
       "      <td>silhouette length skirt length flattering clas...</td>\n",
       "    </tr>\n",
       "  </tbody>\n",
       "</table>\n",
       "</div>"
      ],
      "text/plain": [
       "                                      product_review product_category  \\\n",
       "0  i love love love this jumpsuit it s fun flirty...          Bottoms   \n",
       "1  beautifully made pants and on trend with the f...          Bottoms   \n",
       "2  i neve would have given these pants a second l...          Bottoms   \n",
       "3  these pants are even bette in person the only ...          Bottoms   \n",
       "4  the silhouette and length of this skirt and le...          Bottoms   \n",
       "\n",
       "                               product_review_tokens  \\\n",
       "0  [i, love, love, love, this, jumpsuit, it, s, f...   \n",
       "1  [beautifully, made, pants, and, on, trend, wit...   \n",
       "2  [i, neve, would, have, given, these, pants, a,...   \n",
       "3  [these, pants, are, even, bette, in, person, t...   \n",
       "4  [the, silhouette, and, length, of, this, skirt...   \n",
       "\n",
       "                       product_review_tokens_cleaned  \\\n",
       "0  [love, love, love, jumpsuit, fun, flirty, fabu...   \n",
       "1  [beautifully, made, pants, trend, flared, crop...   \n",
       "2  [neve, would, given, pants, second, look, onli...   \n",
       "3  [pants, even, bette, person, downside, need, d...   \n",
       "4  [silhouette, length, skirt, length, flattering...   \n",
       "\n",
       "                              product_review_cleaned  \n",
       "0  love love love jumpsuit fun flirty fabulous ev...  \n",
       "1  beautifully made pants trend flared crop much ...  \n",
       "2  neve would given pants second look online pers...  \n",
       "3  pants even bette person downside need dry cleaned  \n",
       "4  silhouette length skirt length flattering clas...  "
      ]
     },
     "execution_count": 35,
     "metadata": {},
     "output_type": "execute_result"
    }
   ],
   "source": [
    "dataset.head()"
   ]
  },
  {
   "cell_type": "code",
   "execution_count": null,
   "metadata": {},
   "outputs": [],
   "source": []
  }
 ],
 "metadata": {
  "kernelspec": {
   "display_name": "nltk",
   "language": "python",
   "name": "python3"
  },
  "language_info": {
   "codemirror_mode": {
    "name": "ipython",
    "version": 3
   },
   "file_extension": ".py",
   "mimetype": "text/x-python",
   "name": "python",
   "nbconvert_exporter": "python",
   "pygments_lexer": "ipython3",
   "version": "3.11.6"
  }
 },
 "nbformat": 4,
 "nbformat_minor": 2
}
