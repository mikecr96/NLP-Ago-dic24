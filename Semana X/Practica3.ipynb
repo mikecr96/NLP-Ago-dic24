{
 "cells": [
  {
   "cell_type": "markdown",
   "id": "bbb95f1a",
   "metadata": {},
   "source": [
    "# Bienvenidos al notebook de la práctica 3\n",
    "---"
   ]
  },
  {
   "cell_type": "markdown",
   "id": "e5af778b",
   "metadata": {},
   "source": [
    "## Parte 1"
   ]
  },
  {
   "cell_type": "markdown",
   "id": "b01a8984",
   "metadata": {},
   "source": [
    "Importen todos los módulos necesarios en esta sección"
   ]
  },
  {
   "cell_type": "code",
   "execution_count": null,
   "id": "50be908d",
   "metadata": {},
   "outputs": [],
   "source": []
  },
  {
   "cell_type": "markdown",
   "id": "e7333329",
   "metadata": {},
   "source": [
    "### Descripción:\n",
    "\n",
    "En este desafío, se nos asigna la tarea de analizar reseñas relacionadas con varios productos de una tienda en línea. El conjunto de datos proporcionado contiene 15,000 textos de reseñas junto con el sentimiento correspondiente para cada reseña. Nuestro objetivo es ayudar al equipo de publicidad de la empresa a crear una visualización de nube de palabras enfocándose específicamente en los adjetivos utilizados en las reseñas con sentimientos positivos.\n",
    "\n",
    "Hagan una sola función que se encargue de normalizar las reviews, esto es:\n",
    "1. Convertir a minúsculas\n",
    "2. Remover puntuación\n",
    "3. Remover stopwords\n",
    "4. Tokenizar por palabra"
   ]
  },
  {
   "cell_type": "code",
   "execution_count": null,
   "id": "43916b34",
   "metadata": {},
   "outputs": [],
   "source": [
    "# Cargar el dataset\n",
    "data = pd.read_csv(\"reviews.csv\")\n",
    "\n",
    "# SU CÓDIGO...\n",
    "\n",
    "data.head()"
   ]
  },
  {
   "cell_type": "markdown",
   "id": "70a8bea6",
   "metadata": {},
   "source": [
    "Filtren solo las filas donde el sentimiento es `Positive` "
   ]
  },
  {
   "cell_type": "code",
   "execution_count": 3,
   "id": "253a0cc2",
   "metadata": {},
   "outputs": [],
   "source": [
    "# SU CÓDIGO..."
   ]
  },
  {
   "cell_type": "markdown",
   "id": "01613c0e",
   "metadata": {},
   "source": [
    "Usen `nltk.pos_tag` para etiquetar las POS en las reviews"
   ]
  },
  {
   "cell_type": "code",
   "execution_count": 4,
   "id": "96157f26",
   "metadata": {},
   "outputs": [],
   "source": [
    "# SU CÓDIGO..."
   ]
  },
  {
   "cell_type": "markdown",
   "id": "fd270536",
   "metadata": {},
   "source": [
    "Extraer los adjetivos donde las reviews tienen un sentimiento positivo"
   ]
  },
  {
   "cell_type": "code",
   "execution_count": 5,
   "id": "1fae24fe",
   "metadata": {},
   "outputs": [],
   "source": [
    "# SU CÓDIGO..."
   ]
  },
  {
   "cell_type": "markdown",
   "id": "74723cc1",
   "metadata": {},
   "source": [
    "Creen una word cloud para visualizar todos los adjetivos en las reviews positivas"
   ]
  },
  {
   "cell_type": "code",
   "execution_count": 6,
   "id": "35c6cf60",
   "metadata": {},
   "outputs": [],
   "source": [
    "# SU CÓDIGO..."
   ]
  },
  {
   "cell_type": "markdown",
   "id": "f8decf6b",
   "metadata": {},
   "source": [
    "---\n",
    "## Parte 2"
   ]
  },
  {
   "cell_type": "markdown",
   "id": "c50559a1",
   "metadata": {},
   "source": [
    "Repetir todos los pasos anteriores, pero para las reviews negativas"
   ]
  },
  {
   "cell_type": "code",
   "execution_count": null,
   "id": "0dfcd9ab",
   "metadata": {},
   "outputs": [],
   "source": [
    "# SU CÓDIGO..."
   ]
  }
 ],
 "metadata": {
  "kernelspec": {
   "display_name": "Python 3",
   "language": "python",
   "name": "python3"
  },
  "language_info": {
   "codemirror_mode": {
    "name": "ipython",
    "version": 3
   },
   "file_extension": ".py",
   "mimetype": "text/x-python",
   "name": "python",
   "nbconvert_exporter": "python",
   "pygments_lexer": "ipython3",
   "version": "3.8.2"
  }
 },
 "nbformat": 4,
 "nbformat_minor": 5
}
