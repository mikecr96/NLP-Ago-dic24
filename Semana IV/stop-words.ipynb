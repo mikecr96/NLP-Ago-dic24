{
 "cells": [
  {
   "cell_type": "code",
   "execution_count": 1,
   "metadata": {},
   "outputs": [],
   "source": [
    "import nltk\n",
    "from nltk.corpus import stopwords"
   ]
  },
  {
   "cell_type": "code",
   "execution_count": 2,
   "metadata": {},
   "outputs": [
    {
     "data": {
      "text/plain": [
       "10405"
      ]
     },
     "execution_count": 2,
     "metadata": {},
     "output_type": "execute_result"
    }
   ],
   "source": [
    "len(stopwords.words())"
   ]
  },
  {
   "cell_type": "code",
   "execution_count": 3,
   "metadata": {},
   "outputs": [
    {
     "data": {
      "text/plain": [
       "313"
      ]
     },
     "execution_count": 3,
     "metadata": {},
     "output_type": "execute_result"
    }
   ],
   "source": [
    "len(stopwords.words(\"spanish\"))"
   ]
  },
  {
   "cell_type": "code",
   "execution_count": 4,
   "metadata": {},
   "outputs": [],
   "source": [
    "stopwords_spa = stopwords.words(\"spanish\")"
   ]
  },
  {
   "cell_type": "code",
   "execution_count": 5,
   "metadata": {},
   "outputs": [
    {
     "data": {
      "text/plain": [
       "['de', 'la', 'que', 'el', 'en', 'y', 'a', 'los', 'del', 'se']"
      ]
     },
     "execution_count": 5,
     "metadata": {},
     "output_type": "execute_result"
    }
   ],
   "source": [
    "stopwords_spa[:10] # Todo está en minúsculas"
   ]
  },
  {
   "cell_type": "markdown",
   "metadata": {},
   "source": [
    "1. Recolección de texto\n",
    "2. Tokenización (a nivel palabra)\n",
    "3. Eliminamos palabras vacías\n",
    "4. Stemming / Lematización"
   ]
  },
  {
   "cell_type": "code",
   "execution_count": 6,
   "metadata": {},
   "outputs": [],
   "source": [
    "texto_spa = \"\"\"La unión de dos almas sinceras no admite impedimentos. \n",
    "No es amor el amor que se transforma con el cambio, o se aleja con la distancia. \n",
    "¡Oh, no! Es un faro siempre firme, que desafía a las tempestades sin estremecerse. \n",
    "Es la estrella para el navio a la deriva, de valor incalculable, aunque se mída su altura. \n",
    "No es amor bufón del tiempo, aunque los rosados labios y mejillas caigan bajo el golpe de su guadaña. \n",
    "El amor no se altera con sus breves horas y semanas, sino que se afianza incluso hasta en el borde del abismo. \n",
    "Sí estoy equivocado y se demuestra, yo nunca nada escribí, y nadie jamás amó.”\n",
    "\"\"\""
   ]
  },
  {
   "cell_type": "code",
   "execution_count": 7,
   "metadata": {},
   "outputs": [],
   "source": [
    "words = nltk.word_tokenize(texto_spa)"
   ]
  },
  {
   "cell_type": "code",
   "execution_count": 10,
   "metadata": {},
   "outputs": [],
   "source": [
    "# List comprehension\n",
    "\n",
    "palabras_filtradas = [palabra.lower() for palabra in words if palabra.lower() not in stopwords_spa] \n",
    "\n",
    "# for palabra in words:\n",
    "#     if palabra.lower() in stopwords_spa:\n",
    "#         pass\n",
    "#     else:\n",
    "#         palabras_filtradas.append(palabra.lower())"
   ]
  },
  {
   "cell_type": "code",
   "execution_count": 11,
   "metadata": {},
   "outputs": [
    {
     "name": "stdout",
     "output_type": "stream",
     "text": [
      "130\n",
      "73\n"
     ]
    }
   ],
   "source": [
    "print(len(words))\n",
    "print(len(palabras_filtradas))"
   ]
  },
  {
   "cell_type": "code",
   "execution_count": 12,
   "metadata": {},
   "outputs": [
    {
     "data": {
      "text/plain": [
       "57"
      ]
     },
     "execution_count": 12,
     "metadata": {},
     "output_type": "execute_result"
    }
   ],
   "source": [
    "len(words) - len(palabras_filtradas)"
   ]
  },
  {
   "cell_type": "code",
   "execution_count": 13,
   "metadata": {},
   "outputs": [
    {
     "data": {
      "text/plain": [
       "['unión',\n",
       " 'dos',\n",
       " 'almas',\n",
       " 'sinceras',\n",
       " 'admite',\n",
       " 'impedimentos',\n",
       " '.',\n",
       " 'amor',\n",
       " 'amor',\n",
       " 'transforma',\n",
       " 'cambio',\n",
       " ',',\n",
       " 'aleja',\n",
       " 'distancia',\n",
       " '.',\n",
       " '¡oh',\n",
       " ',',\n",
       " '!',\n",
       " 'faro',\n",
       " 'siempre',\n",
       " 'firme',\n",
       " ',',\n",
       " 'desafía',\n",
       " 'tempestades',\n",
       " 'estremecerse',\n",
       " '.',\n",
       " 'estrella',\n",
       " 'navio',\n",
       " 'deriva',\n",
       " ',',\n",
       " 'valor',\n",
       " 'incalculable',\n",
       " ',',\n",
       " 'aunque',\n",
       " 'mída',\n",
       " 'altura',\n",
       " '.',\n",
       " 'amor',\n",
       " 'bufón',\n",
       " 'tiempo',\n",
       " ',',\n",
       " 'aunque',\n",
       " 'rosados',\n",
       " 'labios',\n",
       " 'mejillas',\n",
       " 'caigan',\n",
       " 'bajo',\n",
       " 'golpe',\n",
       " 'guadaña',\n",
       " '.',\n",
       " 'amor',\n",
       " 'altera',\n",
       " 'breves',\n",
       " 'horas',\n",
       " 'semanas',\n",
       " ',',\n",
       " 'sino',\n",
       " 'afianza',\n",
       " 'incluso',\n",
       " 'borde',\n",
       " 'abismo',\n",
       " '.',\n",
       " 'equivocado',\n",
       " 'demuestra',\n",
       " ',',\n",
       " 'nunca',\n",
       " 'escribí',\n",
       " ',',\n",
       " 'nadie',\n",
       " 'jamás',\n",
       " 'amó',\n",
       " '.',\n",
       " '”']"
      ]
     },
     "execution_count": 13,
     "metadata": {},
     "output_type": "execute_result"
    }
   ],
   "source": [
    "palabras_filtradas"
   ]
  },
  {
   "cell_type": "code",
   "execution_count": 17,
   "metadata": {},
   "outputs": [],
   "source": [
    "# new_txt = \"\"\n",
    "\n",
    "# for palabra in palabras_filtradas:\n",
    "#     new_txt += palabra\n",
    "#     new_txt += \" \""
   ]
  },
  {
   "cell_type": "code",
   "execution_count": 19,
   "metadata": {},
   "outputs": [
    {
     "data": {
      "text/plain": [
       "'unión dos almas sinceras admite impedimentos . amor amor transforma cambio , aleja distancia . ¡oh , ! faro siempre firme , desafía tempestades estremecerse . estrella navio deriva , valor incalculable , aunque mída altura . amor bufón tiempo , aunque rosados labios mejillas caigan bajo golpe guadaña . amor altera breves horas semanas , sino afianza incluso borde abismo . equivocado demuestra , nunca escribí , nadie jamás amó . ”'"
      ]
     },
     "execution_count": 19,
     "metadata": {},
     "output_type": "execute_result"
    }
   ],
   "source": [
    "# \"ñdjojasñd{jajsodjñas}\".split(\" \")\n",
    "\" \".join(palabras_filtradas)"
   ]
  },
  {
   "cell_type": "code",
   "execution_count": null,
   "metadata": {},
   "outputs": [],
   "source": []
  }
 ],
 "metadata": {
  "kernelspec": {
   "display_name": "nltk",
   "language": "python",
   "name": "python3"
  },
  "language_info": {
   "codemirror_mode": {
    "name": "ipython",
    "version": 3
   },
   "file_extension": ".py",
   "mimetype": "text/x-python",
   "name": "python",
   "nbconvert_exporter": "python",
   "pygments_lexer": "ipython3",
   "version": "3.11.6"
  }
 },
 "nbformat": 4,
 "nbformat_minor": 2
}
