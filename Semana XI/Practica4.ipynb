{
 "cells": [
  {
   "cell_type": "markdown",
   "metadata": {},
   "source": [
    "# Bienvenidos al notebook de la práctica 4\n",
    "---"
   ]
  },
  {
   "cell_type": "markdown",
   "metadata": {},
   "source": [
    "## Parte 1\n",
    "\n",
    "Instrucciones:\n",
    "\n",
    "Construir un resumen de la siguiente página\n",
    "https://www.bbc.com/news/articles/c7v64lnzy02o \n",
    "\n",
    "Consideraciones:\n",
    "1) El número de líneas que contendrá el resumen es 10\n",
    "2) Seguir todos los pasos analizados en clase"
   ]
  },
  {
   "cell_type": "code",
   "execution_count": 1,
   "metadata": {},
   "outputs": [],
   "source": []
  },
  {
   "cell_type": "markdown",
   "metadata": {},
   "source": [
    "---\n",
    "## Parte 2\n",
    "\n",
    "1) Haciendo uso de la misma url, esta vez agreguen el uso del lematizador.\n",
    "2) Comparen la salida cuando se usa y cuando no se usa el lematizador. Si existe algún cambio, dar una breve conclusión del porqué.\n",
    "3) Hagan una nube de palabras de las 100 palabras con mayor frecuencia de aparición."
   ]
  },
  {
   "cell_type": "code",
   "execution_count": null,
   "metadata": {},
   "outputs": [],
   "source": []
  }
 ],
 "metadata": {
  "kernelspec": {
   "display_name": "nltk",
   "language": "python",
   "name": "python3"
  },
  "language_info": {
   "codemirror_mode": {
    "name": "ipython",
    "version": 3
   },
   "file_extension": ".py",
   "mimetype": "text/x-python",
   "name": "python",
   "nbconvert_exporter": "python",
   "pygments_lexer": "ipython3",
   "version": "3.11.6"
  }
 },
 "nbformat": 4,
 "nbformat_minor": 2
}
