{
 "cells": [
  {
   "cell_type": "code",
   "execution_count": 1,
   "metadata": {},
   "outputs": [],
   "source": [
    "import re\n",
    "import nltk"
   ]
  },
  {
   "cell_type": "code",
   "execution_count": 2,
   "metadata": {},
   "outputs": [],
   "source": [
    "oracion_original = \"\"\"El perro marrón corre por el parque todos los días. \n",
    "El perro juega con otros perros y siempre encuentra algo interesante en el parque. \n",
    "A veces, el perro se sienta bajo un árbol y observa a las personas que pasan por el parque.\"\"\""
   ]
  },
  {
   "cell_type": "code",
   "execution_count": 3,
   "metadata": {},
   "outputs": [],
   "source": [
    "sentence = oracion_original.lower()\n",
    "sentence = re.sub(r\"\\W\", \" \", sentence)\n",
    "sentence = re.sub(r\"\\s+\", \" \", sentence)\n",
    "words = nltk.word_tokenize(sentence)\n",
    "words_filt = [w for w in words if w not in nltk.corpus.stopwords.words(\"spanish\")]"
   ]
  },
  {
   "cell_type": "code",
   "execution_count": 4,
   "metadata": {},
   "outputs": [
    {
     "name": "stdout",
     "output_type": "stream",
     "text": [
      "43\n",
      "21\n"
     ]
    }
   ],
   "source": [
    "print(len(words))\n",
    "print(len(words_filt))"
   ]
  },
  {
   "cell_type": "code",
   "execution_count": 6,
   "metadata": {},
   "outputs": [
    {
     "data": {
      "text/plain": [
       "'perro marrón corre parque días perro juega perros siempre encuentra interesante parque veces perro sienta bajo árbol observa personas pasan parque'"
      ]
     },
     "execution_count": 6,
     "metadata": {},
     "output_type": "execute_result"
    }
   ],
   "source": [
    "\" \".join(words_filt)"
   ]
  },
  {
   "cell_type": "code",
   "execution_count": 10,
   "metadata": {},
   "outputs": [
    {
     "data": {
      "text/plain": [
       "[('perro', 'marrón'),\n",
       " ('marrón', 'corre'),\n",
       " ('corre', 'parque'),\n",
       " ('parque', 'días'),\n",
       " ('días', 'perro'),\n",
       " ('perro', 'juega'),\n",
       " ('juega', 'perros'),\n",
       " ('perros', 'siempre'),\n",
       " ('siempre', 'encuentra'),\n",
       " ('encuentra', 'interesante'),\n",
       " ('interesante', 'parque'),\n",
       " ('parque', 'veces'),\n",
       " ('veces', 'perro'),\n",
       " ('perro', 'sienta'),\n",
       " ('sienta', 'bajo'),\n",
       " ('bajo', 'árbol'),\n",
       " ('árbol', 'observa'),\n",
       " ('observa', 'personas'),\n",
       " ('personas', 'pasan'),\n",
       " ('pasan', 'parque')]"
      ]
     },
     "execution_count": 10,
     "metadata": {},
     "output_type": "execute_result"
    }
   ],
   "source": [
    "[(words_filt[w], words_filt[w+1]) for w in range(len(words_filt)-1)]"
   ]
  },
  {
   "cell_type": "code",
   "execution_count": 12,
   "metadata": {},
   "outputs": [
    {
     "data": {
      "text/plain": [
       "[('perro', 'marrón', 'corre'),\n",
       " ('marrón', 'corre', 'parque'),\n",
       " ('corre', 'parque', 'días'),\n",
       " ('parque', 'días', 'perro'),\n",
       " ('días', 'perro', 'juega'),\n",
       " ('perro', 'juega', 'perros'),\n",
       " ('juega', 'perros', 'siempre'),\n",
       " ('perros', 'siempre', 'encuentra'),\n",
       " ('siempre', 'encuentra', 'interesante'),\n",
       " ('encuentra', 'interesante', 'parque'),\n",
       " ('interesante', 'parque', 'veces'),\n",
       " ('parque', 'veces', 'perro'),\n",
       " ('veces', 'perro', 'sienta'),\n",
       " ('perro', 'sienta', 'bajo'),\n",
       " ('sienta', 'bajo', 'árbol'),\n",
       " ('bajo', 'árbol', 'observa'),\n",
       " ('árbol', 'observa', 'personas'),\n",
       " ('observa', 'personas', 'pasan'),\n",
       " ('personas', 'pasan', 'parque')]"
      ]
     },
     "execution_count": 12,
     "metadata": {},
     "output_type": "execute_result"
    }
   ],
   "source": [
    "[(words_filt[w], words_filt[w+1], words_filt[w+2]) for w in range(len(words_filt)-2)]"
   ]
  },
  {
   "cell_type": "code",
   "execution_count": 13,
   "metadata": {},
   "outputs": [],
   "source": [
    "from nltk import bigrams, trigrams, ngrams"
   ]
  },
  {
   "cell_type": "code",
   "execution_count": 15,
   "metadata": {},
   "outputs": [
    {
     "data": {
      "text/plain": [
       "[('perro', 'marrón'),\n",
       " ('marrón', 'corre'),\n",
       " ('corre', 'parque'),\n",
       " ('parque', 'días'),\n",
       " ('días', 'perro'),\n",
       " ('perro', 'juega'),\n",
       " ('juega', 'perros'),\n",
       " ('perros', 'siempre'),\n",
       " ('siempre', 'encuentra'),\n",
       " ('encuentra', 'interesante'),\n",
       " ('interesante', 'parque'),\n",
       " ('parque', 'veces'),\n",
       " ('veces', 'perro'),\n",
       " ('perro', 'sienta'),\n",
       " ('sienta', 'bajo'),\n",
       " ('bajo', 'árbol'),\n",
       " ('árbol', 'observa'),\n",
       " ('observa', 'personas'),\n",
       " ('personas', 'pasan'),\n",
       " ('pasan', 'parque')]"
      ]
     },
     "execution_count": 15,
     "metadata": {},
     "output_type": "execute_result"
    }
   ],
   "source": [
    "list(bigrams(words_filt))"
   ]
  },
  {
   "cell_type": "code",
   "execution_count": 16,
   "metadata": {},
   "outputs": [
    {
     "data": {
      "text/plain": [
       "[('perro', 'marrón', 'corre'),\n",
       " ('marrón', 'corre', 'parque'),\n",
       " ('corre', 'parque', 'días'),\n",
       " ('parque', 'días', 'perro'),\n",
       " ('días', 'perro', 'juega'),\n",
       " ('perro', 'juega', 'perros'),\n",
       " ('juega', 'perros', 'siempre'),\n",
       " ('perros', 'siempre', 'encuentra'),\n",
       " ('siempre', 'encuentra', 'interesante'),\n",
       " ('encuentra', 'interesante', 'parque'),\n",
       " ('interesante', 'parque', 'veces'),\n",
       " ('parque', 'veces', 'perro'),\n",
       " ('veces', 'perro', 'sienta'),\n",
       " ('perro', 'sienta', 'bajo'),\n",
       " ('sienta', 'bajo', 'árbol'),\n",
       " ('bajo', 'árbol', 'observa'),\n",
       " ('árbol', 'observa', 'personas'),\n",
       " ('observa', 'personas', 'pasan'),\n",
       " ('personas', 'pasan', 'parque')]"
      ]
     },
     "execution_count": 16,
     "metadata": {},
     "output_type": "execute_result"
    }
   ],
   "source": [
    "list(trigrams(words_filt))"
   ]
  },
  {
   "cell_type": "code",
   "execution_count": 23,
   "metadata": {},
   "outputs": [
    {
     "data": {
      "text/plain": [
       "[('perro', 'marrón', 'corre', 'parque', 'días'),\n",
       " ('marrón', 'corre', 'parque', 'días', 'perro'),\n",
       " ('corre', 'parque', 'días', 'perro', 'juega'),\n",
       " ('parque', 'días', 'perro', 'juega', 'perros'),\n",
       " ('días', 'perro', 'juega', 'perros', 'siempre'),\n",
       " ('perro', 'juega', 'perros', 'siempre', 'encuentra'),\n",
       " ('juega', 'perros', 'siempre', 'encuentra', 'interesante'),\n",
       " ('perros', 'siempre', 'encuentra', 'interesante', 'parque'),\n",
       " ('siempre', 'encuentra', 'interesante', 'parque', 'veces'),\n",
       " ('encuentra', 'interesante', 'parque', 'veces', 'perro'),\n",
       " ('interesante', 'parque', 'veces', 'perro', 'sienta'),\n",
       " ('parque', 'veces', 'perro', 'sienta', 'bajo'),\n",
       " ('veces', 'perro', 'sienta', 'bajo', 'árbol'),\n",
       " ('perro', 'sienta', 'bajo', 'árbol', 'observa'),\n",
       " ('sienta', 'bajo', 'árbol', 'observa', 'personas'),\n",
       " ('bajo', 'árbol', 'observa', 'personas', 'pasan'),\n",
       " ('árbol', 'observa', 'personas', 'pasan', 'parque')]"
      ]
     },
     "execution_count": 23,
     "metadata": {},
     "output_type": "execute_result"
    }
   ],
   "source": [
    "list(ngrams(words_filt, 5))"
   ]
  },
  {
   "cell_type": "code",
   "execution_count": null,
   "metadata": {},
   "outputs": [],
   "source": []
  }
 ],
 "metadata": {
  "kernelspec": {
   "display_name": "nltk",
   "language": "python",
   "name": "python3"
  },
  "language_info": {
   "codemirror_mode": {
    "name": "ipython",
    "version": 3
   },
   "file_extension": ".py",
   "mimetype": "text/x-python",
   "name": "python",
   "nbconvert_exporter": "python",
   "pygments_lexer": "ipython3",
   "version": "3.11.6"
  }
 },
 "nbformat": 4,
 "nbformat_minor": 2
}
