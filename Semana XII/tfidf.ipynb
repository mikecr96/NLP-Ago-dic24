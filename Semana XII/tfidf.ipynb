{
 "cells": [
  {
   "cell_type": "code",
   "execution_count": null,
   "metadata": {},
   "outputs": [],
   "source": [
    "import re\n",
    "import bs4 as bs\n",
    "import pandas as pd\n",
    "from math import log\n",
    "from urllib import request \n",
    "from collections import defaultdict\n",
    "from nltk.corpus import stopwords, twitter_samples\n",
    "from nltk.sentiment import SentimentIntensityAnalyzer\n",
    "from nltk import word_tokenize, sent_tokenize, FreqDist\n",
    "\n",
    "def calculate_tf(t, d):\n",
    "    return d.count(t) / len(word_tokenize(d))\n",
    "\n",
    "tf = {k: {t: calculate_tf(t, d) for t in word_tokenize(d)} for k, d in docs_preprocesados.items()}\n",
    "\n",
    "df_tfs = [pd.DataFrame({\"term\": tf[doc].keys(), \"tf_score\": tf[doc].values()}) for doc in tf]\n",
    "\n",
    "N = len(docs_preprocesados)\n",
    "\n",
    "def calculate_idf(t):\n",
    "    return log(N / sum([1 for doc in docs_preprocesados.values() if t in doc]) + 1)\n",
    "\n",
    "idfs = {t: calculate_idf(t) for t in vocab}\n",
    "\n",
    "def calculate_tfidf(t, d):\n",
    "    return tf[d][t] * idfs[t]\n",
    "\n",
    "result = pd.DataFrame({k: {t: calculate_tfidf(t, k) for t in word_tokenize(v)} for k, v in docs_preprocesados.items()}).fillna(0)"
   ]
  },
  {
   "cell_type": "code",
   "execution_count": 2,
   "metadata": {},
   "outputs": [],
   "source": [
    "from sklearn.feature_extraction.text import TfidfVectorizer\n",
    "\n",
    "corpus = [\"Este es mi primer documento.\",\n",
    "\"Este es el segundo documento.\",\n",
    "\"Este es el tercer y último documento.\",\n",
    "\"¿Es éste, el primer documento?\"]\n",
    "vectorizer = TfidfVectorizer()"
   ]
  },
  {
   "cell_type": "code",
   "execution_count": 3,
   "metadata": {},
   "outputs": [],
   "source": [
    "X = vectorizer.fit_transform(corpus)"
   ]
  },
  {
   "cell_type": "code",
   "execution_count": 9,
   "metadata": {},
   "outputs": [
    {
     "data": {
      "text/plain": [
       "10"
      ]
     },
     "execution_count": 9,
     "metadata": {},
     "output_type": "execute_result"
    }
   ],
   "source": [
    "len(vectorizer.get_feature_names_out())"
   ]
  },
  {
   "cell_type": "code",
   "execution_count": 8,
   "metadata": {},
   "outputs": [
    {
     "data": {
      "text/plain": [
       "array(['documento', 'el', 'es', 'este', 'mi', 'primer', 'segundo',\n",
       "       'tercer', 'éste', 'último'], dtype=object)"
      ]
     },
     "execution_count": 8,
     "metadata": {},
     "output_type": "execute_result"
    }
   ],
   "source": [
    "vectorizer.get_feature_names_out()"
   ]
  },
  {
   "cell_type": "code",
   "execution_count": 5,
   "metadata": {},
   "outputs": [
    {
     "data": {
      "text/plain": [
       "scipy.sparse._csr.csr_matrix"
      ]
     },
     "execution_count": 5,
     "metadata": {},
     "output_type": "execute_result"
    }
   ],
   "source": [
    "type(X)"
   ]
  },
  {
   "cell_type": "code",
   "execution_count": 6,
   "metadata": {},
   "outputs": [
    {
     "data": {
      "text/plain": [
       "(4, 10)"
      ]
     },
     "execution_count": 6,
     "metadata": {},
     "output_type": "execute_result"
    }
   ],
   "source": [
    "X.shape"
   ]
  },
  {
   "cell_type": "code",
   "execution_count": 12,
   "metadata": {},
   "outputs": [],
   "source": [
    "import pandas as pd"
   ]
  },
  {
   "cell_type": "code",
   "execution_count": 14,
   "metadata": {},
   "outputs": [
    {
     "data": {
      "text/html": [
       "<div>\n",
       "<style scoped>\n",
       "    .dataframe tbody tr th:only-of-type {\n",
       "        vertical-align: middle;\n",
       "    }\n",
       "\n",
       "    .dataframe tbody tr th {\n",
       "        vertical-align: top;\n",
       "    }\n",
       "\n",
       "    .dataframe thead th {\n",
       "        text-align: right;\n",
       "    }\n",
       "</style>\n",
       "<table border=\"1\" class=\"dataframe\">\n",
       "  <thead>\n",
       "    <tr style=\"text-align: right;\">\n",
       "      <th></th>\n",
       "      <th>documento</th>\n",
       "      <th>el</th>\n",
       "      <th>es</th>\n",
       "      <th>este</th>\n",
       "      <th>mi</th>\n",
       "      <th>primer</th>\n",
       "      <th>segundo</th>\n",
       "      <th>tercer</th>\n",
       "      <th>éste</th>\n",
       "      <th>último</th>\n",
       "    </tr>\n",
       "  </thead>\n",
       "  <tbody>\n",
       "    <tr>\n",
       "      <th>0</th>\n",
       "      <td>0.325285</td>\n",
       "      <td>0.000000</td>\n",
       "      <td>0.325285</td>\n",
       "      <td>0.397871</td>\n",
       "      <td>0.623342</td>\n",
       "      <td>0.49145</td>\n",
       "      <td>0.000000</td>\n",
       "      <td>0.000000</td>\n",
       "      <td>0.000000</td>\n",
       "      <td>0.000000</td>\n",
       "    </tr>\n",
       "    <tr>\n",
       "      <th>1</th>\n",
       "      <td>0.339729</td>\n",
       "      <td>0.415537</td>\n",
       "      <td>0.339729</td>\n",
       "      <td>0.415537</td>\n",
       "      <td>0.000000</td>\n",
       "      <td>0.00000</td>\n",
       "      <td>0.651019</td>\n",
       "      <td>0.000000</td>\n",
       "      <td>0.000000</td>\n",
       "      <td>0.000000</td>\n",
       "    </tr>\n",
       "    <tr>\n",
       "      <th>2</th>\n",
       "      <td>0.284711</td>\n",
       "      <td>0.348242</td>\n",
       "      <td>0.284711</td>\n",
       "      <td>0.348242</td>\n",
       "      <td>0.000000</td>\n",
       "      <td>0.00000</td>\n",
       "      <td>0.000000</td>\n",
       "      <td>0.545589</td>\n",
       "      <td>0.000000</td>\n",
       "      <td>0.545589</td>\n",
       "    </tr>\n",
       "    <tr>\n",
       "      <th>3</th>\n",
       "      <td>0.325285</td>\n",
       "      <td>0.397871</td>\n",
       "      <td>0.325285</td>\n",
       "      <td>0.000000</td>\n",
       "      <td>0.000000</td>\n",
       "      <td>0.49145</td>\n",
       "      <td>0.000000</td>\n",
       "      <td>0.000000</td>\n",
       "      <td>0.623342</td>\n",
       "      <td>0.000000</td>\n",
       "    </tr>\n",
       "  </tbody>\n",
       "</table>\n",
       "</div>"
      ],
      "text/plain": [
       "   documento        el        es      este        mi   primer   segundo  \\\n",
       "0   0.325285  0.000000  0.325285  0.397871  0.623342  0.49145  0.000000   \n",
       "1   0.339729  0.415537  0.339729  0.415537  0.000000  0.00000  0.651019   \n",
       "2   0.284711  0.348242  0.284711  0.348242  0.000000  0.00000  0.000000   \n",
       "3   0.325285  0.397871  0.325285  0.000000  0.000000  0.49145  0.000000   \n",
       "\n",
       "     tercer      éste    último  \n",
       "0  0.000000  0.000000  0.000000  \n",
       "1  0.000000  0.000000  0.000000  \n",
       "2  0.545589  0.000000  0.545589  \n",
       "3  0.000000  0.623342  0.000000  "
      ]
     },
     "execution_count": 14,
     "metadata": {},
     "output_type": "execute_result"
    }
   ],
   "source": [
    "pd.DataFrame(X.toarray(), columns=vectorizer.get_feature_names_out())"
   ]
  },
  {
   "cell_type": "code",
   "execution_count": null,
   "metadata": {},
   "outputs": [],
   "source": []
  }
 ],
 "metadata": {
  "kernelspec": {
   "display_name": "nltk",
   "language": "python",
   "name": "python3"
  },
  "language_info": {
   "codemirror_mode": {
    "name": "ipython",
    "version": 3
   },
   "file_extension": ".py",
   "mimetype": "text/x-python",
   "name": "python",
   "nbconvert_exporter": "python",
   "pygments_lexer": "ipython3",
   "version": "3.11.6"
  }
 },
 "nbformat": 4,
 "nbformat_minor": 2
}
